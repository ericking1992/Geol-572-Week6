{
  "nbformat": 4,
  "nbformat_minor": 0,
  "metadata": {
    "colab": {
      "name": "Untitled0.ipynb",
      "provenance": [],
      "authorship_tag": "ABX9TyO2Os6pLTODpv14t040Fwv9",
      "include_colab_link": true
    },
    "kernelspec": {
      "name": "python3",
      "display_name": "Python 3"
    }
  },
  "cells": [
    {
      "cell_type": "markdown",
      "metadata": {
        "id": "view-in-github",
        "colab_type": "text"
      },
      "source": [
        "<a href=\"https://colab.research.google.com/github/ericking1992/Geol-572-Week6/blob/master/WebServiceReader_inclass.ipynb\" target=\"_parent\"><img src=\"https://colab.research.google.com/assets/colab-badge.svg\" alt=\"Open In Colab\"/></a>"
      ]
    },
    {
      "cell_type": "markdown",
      "metadata": {
        "id": "PvFGJPl0EU1I",
        "colab_type": "text"
      },
      "source": [
        "Reading data from online web services"
      ]
    },
    {
      "cell_type": "code",
      "metadata": {
        "id": "3QOA6shLMZOM",
        "colab_type": "code",
        "colab": {}
      },
      "source": [
        "import urllib\n",
        "import json\n",
        "import pandas as pd\n",
        "import matplotlib.pyplot as plt"
      ],
      "execution_count": 0,
      "outputs": []
    },
    {
      "cell_type": "code",
      "metadata": {
        "id": "yNlDjwuvEehG",
        "colab_type": "code",
        "colab": {
          "base_uri": "https://localhost:8080/",
          "height": 34
        },
        "outputId": "90eff0d5-90b4-4fb6-94a6-7836a200f08c"
      },
      "source": [
        "# Example dictionary: Big Ten Football Champions\n",
        "B10Champs = {'2014':['Ohio State','14-1'],'2015':['Michigan State','12-2'],'2016':['Penn State','11-3']}\n",
        "print(B10Champs)"
      ],
      "execution_count": 1,
      "outputs": [
        {
          "output_type": "stream",
          "text": [
            "{'2014': ['Ohio State', '14-1'], '2015': ['Michigan State', '12-2'], '2016': ['Penn State', '11-3']}\n"
          ],
          "name": "stdout"
        }
      ]
    },
    {
      "cell_type": "code",
      "metadata": {
        "id": "a1psM62qFf03",
        "colab_type": "code",
        "colab": {
          "base_uri": "https://localhost:8080/",
          "height": 34
        },
        "outputId": "9096eced-6870-46d5-97c3-4588c3bdab31"
      },
      "source": [
        "print(B10Champs['2014'])"
      ],
      "execution_count": 2,
      "outputs": [
        {
          "output_type": "stream",
          "text": [
            "['Ohio State', '14-1']\n"
          ],
          "name": "stdout"
        }
      ]
    },
    {
      "cell_type": "code",
      "metadata": {
        "id": "ibHrjCBpFvL2",
        "colab_type": "code",
        "colab": {
          "base_uri": "https://localhost:8080/",
          "height": 67
        },
        "outputId": "bfa7d59e-daa3-44dd-fef9-b9989565f010"
      },
      "source": [
        "for key, value in B10Champs.items():\n",
        "  print('The',key,'Big 10 Football Champion was',value[0],'with a record of',value[1])"
      ],
      "execution_count": 3,
      "outputs": [
        {
          "output_type": "stream",
          "text": [
            "The 2014 Big 10 Football Champion was Ohio State with a record of 14-1\n",
            "The 2015 Big 10 Football Champion was Michigan State with a record of 12-2\n",
            "The 2016 Big 10 Football Champion was Penn State with a record of 11-3\n"
          ],
          "name": "stdout"
        }
      ]
    },
    {
      "cell_type": "markdown",
      "metadata": {
        "id": "Sidi5WB2HY1y",
        "colab_type": "text"
      },
      "source": [
        "Obtain USGS real-time data"
      ]
    },
    {
      "cell_type": "code",
      "metadata": {
        "id": "wTa6V4CpIw32",
        "colab_type": "code",
        "colab": {
          "base_uri": "https://localhost:8080/",
          "height": 34
        },
        "outputId": "605165e3-fab1-4a2b-a960-c9cfa2ccf38a"
      },
      "source": [
        "siteNum = \"413743089310102\"\n",
        "USGSparameter = \"72019\"\n",
        "period_of_days = \"500\"\n",
        "url = \"http://waterservices.usgs.gov/nwis/iv/?format=json&sites=\"+siteNum+\"&period=P\"+period_of_days+\"D&parameterCd=\"+USGSparameter+\"&siteStatus=all\"\n",
        "print(url)"
      ],
      "execution_count": 54,
      "outputs": [
        {
          "output_type": "stream",
          "text": [
            "http://waterservices.usgs.gov/nwis/iv/?format=json&sites=413743089310102&period=P500D&parameterCd=72019&siteStatus=all\n"
          ],
          "name": "stdout"
        }
      ]
    },
    {
      "cell_type": "code",
      "metadata": {
        "id": "zAZJhU7lMj1C",
        "colab_type": "code",
        "colab": {}
      },
      "source": [
        "# open the url\n",
        "response = urllib.request.urlopen(url)\n",
        "gw_data = json.loads(response.read())"
      ],
      "execution_count": 0,
      "outputs": []
    },
    {
      "cell_type": "code",
      "metadata": {
        "id": "NRbBAkWUNMF6",
        "colab_type": "code",
        "colab": {
          "base_uri": "https://localhost:8080/",
          "height": 34
        },
        "outputId": "b5154c11-61e7-4935-fb27-e5a4980bee5d"
      },
      "source": [
        "print(response)"
      ],
      "execution_count": 56,
      "outputs": [
        {
          "output_type": "stream",
          "text": [
            "<http.client.HTTPResponse object at 0x7fe3815cd710>\n"
          ],
          "name": "stdout"
        }
      ]
    },
    {
      "cell_type": "code",
      "metadata": {
        "id": "HmmJ1Bz2NhLB",
        "colab_type": "code",
        "colab": {
          "base_uri": "https://localhost:8080/",
          "height": 202
        },
        "outputId": "e70a9c72-cc43-401e-f7ed-eaf9f6581af1"
      },
      "source": [
        "print(gw_data)\n",
        "type(gw_data)"
      ],
      "execution_count": 57,
      "outputs": [
        {
          "output_type": "stream",
          "text": [
            "IOPub data rate exceeded.\n",
            "The notebook server will temporarily stop sending output\n",
            "to the client in order to avoid crashing it.\n",
            "To change this limit, set the config variable\n",
            "`--NotebookApp.iopub_data_rate_limit`.\n",
            "\n",
            "Current values:\n",
            "NotebookApp.iopub_data_rate_limit=1000000.0 (bytes/sec)\n",
            "NotebookApp.rate_limit_window=3.0 (secs)\n",
            "\n"
          ],
          "name": "stderr"
        },
        {
          "output_type": "execute_result",
          "data": {
            "text/plain": [
              "dict"
            ]
          },
          "metadata": {
            "tags": []
          },
          "execution_count": 57
        }
      ]
    },
    {
      "cell_type": "code",
      "metadata": {
        "id": "QCPvFk2GOdAa",
        "colab_type": "code",
        "colab": {
          "base_uri": "https://localhost:8080/",
          "height": 34
        },
        "outputId": "649a0d61-bac9-4701-ba82-5b9cda37871d"
      },
      "source": [
        "gw_data.keys()"
      ],
      "execution_count": 58,
      "outputs": [
        {
          "output_type": "execute_result",
          "data": {
            "text/plain": [
              "dict_keys(['name', 'declaredType', 'scope', 'value', 'nil', 'globalScope', 'typeSubstituted'])"
            ]
          },
          "metadata": {
            "tags": []
          },
          "execution_count": 58
        }
      ]
    },
    {
      "cell_type": "code",
      "metadata": {
        "id": "PZS4cbX8Os6j",
        "colab_type": "code",
        "colab": {
          "base_uri": "https://localhost:8080/",
          "height": 34
        },
        "outputId": "3882dbdd-23f9-49e9-f45f-5736950f2827"
      },
      "source": [
        "gw_data['value']['timeSeries'][0].keys()"
      ],
      "execution_count": 59,
      "outputs": [
        {
          "output_type": "execute_result",
          "data": {
            "text/plain": [
              "dict_keys(['sourceInfo', 'variable', 'values', 'name'])"
            ]
          },
          "metadata": {
            "tags": []
          },
          "execution_count": 59
        }
      ]
    },
    {
      "cell_type": "code",
      "metadata": {
        "id": "ngkPbNccQ1u2",
        "colab_type": "code",
        "colab": {}
      },
      "source": [
        "dtw_list = gw_data['value']['timeSeries'][0]['values'][0]['value']"
      ],
      "execution_count": 0,
      "outputs": []
    },
    {
      "cell_type": "code",
      "metadata": {
        "id": "J56GOMMXUbxA",
        "colab_type": "code",
        "colab": {
          "base_uri": "https://localhost:8080/",
          "height": 286
        },
        "outputId": "7660b00f-f3da-49f4-e8b1-9fbb158d8af8"
      },
      "source": [
        "dtw_df = pd.DataFrame.from_dict(dtw_list)\n",
        "dtw_df.index = pd.to_datetime(dtw_df['dateTime'])\n",
        "dtw_df['value'] = dtw_df['value'].astype(float)\n",
        "dtw_df = dtw_df.drop(columns=['qualifiers','dateTime'])\n",
        "print(dtw_df)\n",
        "print(dtw_df.value[0])\n",
        "#print(type(dtw_df['dateTime'][0]))"
      ],
      "execution_count": 61,
      "outputs": [
        {
          "output_type": "stream",
          "text": [
            "                           value\n",
            "dateTime                        \n",
            "2018-10-19 16:45:00-06:00  23.19\n",
            "2018-10-19 17:00:00-06:00  23.20\n",
            "2018-10-19 17:15:00-06:00  23.19\n",
            "2018-10-19 17:30:00-06:00  23.19\n",
            "2018-10-19 17:45:00-06:00  23.19\n",
            "...                          ...\n",
            "2020-03-02 14:45:00-06:00  22.02\n",
            "2020-03-02 15:00:00-06:00  22.02\n",
            "2020-03-02 15:15:00-06:00  22.02\n",
            "2020-03-02 15:30:00-06:00  22.02\n",
            "2020-03-02 15:45:00-06:00  22.02\n",
            "\n",
            "[47632 rows x 1 columns]\n",
            "23.19\n"
          ],
          "name": "stdout"
        }
      ]
    },
    {
      "cell_type": "code",
      "metadata": {
        "id": "C0uoDMTLXFRp",
        "colab_type": "code",
        "colab": {
          "base_uri": "https://localhost:8080/",
          "height": 293
        },
        "outputId": "303478bd-0c65-46bb-e198-7d12cd500540"
      },
      "source": [
        "dtw_df.plot()\n",
        "sitename = gw_data['value']['timeSeries'][0]['sourceInfo']['siteName']\n",
        "plt.title(sitename)\n",
        "plt.gca().invert_yaxis()\n",
        "plt.ylabel('DTW (ft)')\n",
        "plt.show()"
      ],
      "execution_count": 63,
      "outputs": [
        {
          "output_type": "display_data",
          "data": {
            "image/png": "[encoded data removed]",
            "text/plain": [
              "<Figure size 432x288 with 1 Axes>"
            ]
          },
          "metadata": {
            "tags": []
          }
        }
      ]
    }
  ]
}